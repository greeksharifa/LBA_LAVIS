{
 "cells": [
  {
   "cell_type": "code",
   "execution_count": 1,
   "metadata": {},
   "outputs": [],
   "source": [
    "import ipywidgets as widgets\n",
    "from IPython.display import display, Image, Video\n",
    "import json\n",
    "import requests\n",
    "import glob\n",
    "import os"
   ]
  },
  {
   "cell_type": "code",
   "execution_count": 3,
   "metadata": {},
   "outputs": [
    {
     "name": "stdout",
     "output_type": "stream",
     "text": [
      "100 3197\n"
     ]
    }
   ],
   "source": [
    "# Load the JSON data\n",
    "with open('/home/ywjang/LBA_LAVIS_uncertainty_v2/output/20240722_190611/results_base.json', 'r') as f:\n",
    "    data = json.load(f)\n",
    "\n",
    "# Convert to a dictionary for easier access\n",
    "result_dict = {item['question_id']: item for item in data}\n",
    "\n",
    "with open('/data1/AnotherMissOh/AnotherMissOhQA_val_set.json', 'r') as f2:\n",
    "    data2 = json.load(f2)\n",
    "\n",
    "question_dict = {item['qid']: item for item in data2}\n",
    "\n",
    "question_ids = sorted(result_dict.keys())\n",
    "print(len(question_ids), question_ids[0])"
   ]
  },
  {
   "cell_type": "code",
   "execution_count": 7,
   "metadata": {},
   "outputs": [
    {
     "data": {
      "application/vnd.jupyter.widget-view+json": {
       "model_id": "254ecc8204594388a8c3afe8e82c5187",
       "version_major": 2,
       "version_minor": 0
      },
      "text/plain": [
       "interactive(children=(IntSlider(value=0, continuous_update=False, description='Question ID:', max=99), Output(…"
      ]
     },
     "execution_count": 7,
     "metadata": {},
     "output_type": "execute_result"
    }
   ],
   "source": [
    "def display_qa_info(question_id):\n",
    "    question_id = question_ids[question_id-1]\n",
    "    print('question_id:', question_id)\n",
    "    item = result_dict[question_id]\n",
    "    item2 = question_dict[question_id]\n",
    "    vid = item2[\"vid\"]\n",
    "\n",
    "    # Print question and answers\n",
    "    print(f\"Main Question: {item['main_question']}\")\n",
    "    print(f\"\\nGround Truth Answer: {item['gt_ans']}\")\n",
    "    print(f\"Base Model Answer: {item['text_output_base']} (Confidence: {item['confidence_base']:.2f})\")\n",
    "    print(f\"LBA Model Answer: {item['text_output_lba']} (Confidence: {item['confidence_lba']:.2f})\")\n",
    "    \n",
    "        \n",
    "    # Display video or image (assuming video_id is part of question_id)\n",
    "    # display(Video(f\"/data1/AnotherMissOh/AnotherMissOh_videos/total/{vid}.mp4\", embed=True, width=600))\n",
    "    if vid.endswith(\"0000\"):\n",
    "        path = glob.glob(f\"/data1/AnotherMissOh/AnotherMissOh_images/{vid.replace('_', '/')[:-5]}/*/*.jpg\")[0]\n",
    "    else:\n",
    "        path = glob.glob(f\"/data1/AnotherMissOh/AnotherMissOh_images/{vid.replace('_', '/')}/*.jpg\")[0]\n",
    "    \n",
    "    # print(path)\n",
    "    display(Image(filename=path, width=480, height=320))\n",
    "    \n",
    "    print(\"\\nFull Context and Questions:\")\n",
    "    print(item['text_input'])\n",
    "\n",
    "# Create slider for question_id\n",
    "question_slider = widgets.IntSlider(\n",
    "    value=0, # question_ids[0],\n",
    "    min=0, # question_ids[0],\n",
    "    max=len(question_ids) - 1, #question_ids[-1],\n",
    "    step=1,\n",
    "    description='Question ID:',\n",
    "    continuous_update=False\n",
    ")\n",
    "\n",
    "# Create interactive output\n",
    "widgets.interactive(display_qa_info, question_id=question_slider)"
   ]
  },
  {
   "cell_type": "code",
   "execution_count": null,
   "metadata": {},
   "outputs": [],
   "source": []
  }
 ],
 "metadata": {
  "kernelspec": {
   "display_name": "Python 3 (ipykernel)",
   "language": "python",
   "name": "python3"
  },
  "language_info": {
   "codemirror_mode": {
    "name": "ipython",
    "version": 3
   },
   "file_extension": ".py",
   "mimetype": "text/x-python",
   "name": "python",
   "nbconvert_exporter": "python",
   "pygments_lexer": "ipython3",
   "version": "3.8.19"
  }
 },
 "nbformat": 4,
 "nbformat_minor": 2
}
